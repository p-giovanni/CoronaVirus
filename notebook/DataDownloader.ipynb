{
 "cells": [
  {
   "cell_type": "code",
   "execution_count": 1,
   "metadata": {},
   "outputs": [],
   "source": [
    "import os\n",
    "import json\n",
    "import requests\n",
    "import codecs\n",
    "import tabula\n"
   ]
  },
  {
   "cell_type": "code",
   "execution_count": 10,
   "metadata": {},
   "outputs": [],
   "source": [
    "ok_statuses = [200, 201, 202]\n",
    "\n",
    "url_province_latest = \"https://raw.githubusercontent.com/pcm-dpc/COVID-19/master/dati-province/dpc-covid19-ita-province-latest.csv\"\n",
    "\n",
    "data_file_path = os.path.join(\"..\",\"data\")\n",
    "prov_data_file_name = \"virus-province.csv\"\n",
    "prov_data_file = os.path.join(data_file_path, prov_data_file_name)"
   ]
  },
  {
   "cell_type": "code",
   "execution_count": 15,
   "metadata": {},
   "outputs": [],
   "source": [
    "result = requests.get(url_province_latest)\n",
    "if result.status_code not in ok_statuses:\n",
    "    assert \"Get data failed. Received error code: {er}\".format(er=str(result.status_code))\n",
    "    \n",
    "with codecs.open(prov_data_file, \"w\", \"utf-8\") as fh:\n",
    "    fh.write(result.text)\n"
   ]
  },
  {
   "cell_type": "code",
   "execution_count": 16,
   "metadata": {},
   "outputs": [],
   "source": [
    "url_region_pdf = \"http://www.salute.gov.it/imgs/C_17_notizie_4362_0_file.pdf\"\n",
    "result = requests.get(url_region_pdf)\n",
    "if result.status_code not in ok_statuses:\n",
    "    assert \"Get data failed. Received error code: {er}\".format(er=str(result.status_code))\n",
    "\n",
    "#region_data_file = os.path.join(os.sep,\"tmp\",\"region.pdf\")    \n",
    "with open(prov_data_file, \"wb\") as fh:\n",
    "    fh.write(result.content)\n"
   ]
  },
  {
   "cell_type": "code",
   "execution_count": 2,
   "metadata": {},
   "outputs": [
    {
     "name": "stderr",
     "output_type": "stream",
     "text": [
      "'pages' argument isn't specified.Will extract only from page 1 by default.\n",
      "Got stderr: Mar 31, 2020 6:11:18 PM org.apache.pdfbox.pdmodel.font.PDCIDFontType2 <init>\n",
      "INFO: OpenType Layout tables used in font CIDFont+F1 are not implemented in PDFBox and will be ignored\n",
      "Mar 31, 2020 6:11:18 PM org.apache.pdfbox.pdmodel.font.PDCIDFontType2 <init>\n",
      "INFO: OpenType Layout tables used in font CIDFont+F2 are not implemented in PDFBox and will be ignored\n",
      "\n"
     ]
    }
   ],
   "source": [
    "#declare the path of your file\n",
    "file_path = \"/home/giovanni/Downloads/C_17_notizie_4362_0_file.pdf\"#Convert your file\n",
    "df = tabula.read_pdf(file_path)"
   ]
  },
  {
   "cell_type": "code",
   "execution_count": 7,
   "metadata": {},
   "outputs": [],
   "source": [
    "df_ita = df[1]"
   ]
  },
  {
   "cell_type": "code",
   "execution_count": 8,
   "metadata": {},
   "outputs": [],
   "source": [
    "df_region = df[0]"
   ]
  },
  {
   "cell_type": "code",
   "execution_count": null,
   "metadata": {},
   "outputs": [],
   "source": []
  }
 ],
 "metadata": {
  "kernelspec": {
   "display_name": "Python 3",
   "language": "python",
   "name": "python3"
  },
  "language_info": {
   "codemirror_mode": {
    "name": "ipython",
    "version": 3
   },
   "file_extension": ".py",
   "mimetype": "text/x-python",
   "name": "python",
   "nbconvert_exporter": "python",
   "pygments_lexer": "ipython3",
   "version": "3.6.9"
  }
 },
 "nbformat": 4,
 "nbformat_minor": 4
}
