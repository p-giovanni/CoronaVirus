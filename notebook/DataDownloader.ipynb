{
 "cells": [
  {
   "cell_type": "code",
   "execution_count": 34,
   "metadata": {},
   "outputs": [],
   "source": [
    "import os\n",
    "import re\n",
    "import sys\n",
    "import json\n",
    "import codecs\n",
    "import locale\n",
    "import logging\n",
    "import requests\n",
    "import datetime as dt\n",
    "from typing import Union, Optional, Tuple, List, cast\n",
    "\n",
    "import tabula\n",
    "from tabula import read_pdf\n",
    "\n",
    "import pandas as pd\n",
    "import numpy as np\n"
   ]
  },
  {
   "cell_type": "code",
   "execution_count": 35,
   "metadata": {},
   "outputs": [],
   "source": [
    "#----------------------------------------------------------------\n",
    "# Configurations section\n",
    "#----------------------------------------------------------------\n",
    "\n",
    "# Url of the pdf file to download:\n",
    "#url_region_pdf = \"https://raw.githubusercontent.com/pcm-dpc/COVID-19/master/schede-riepilogative/regioni/dpc-covid19-ita-scheda-regioni-latest.pdf\"\n",
    "\n",
    "#----------------------------------------------------------------\n",
    "#\n",
    "#----------------------------------------------------------------\n",
    "temp_content_dir = os.path.join(os.sep, 'tmp')\n",
    "\n",
    "now = dt.datetime.now()\n",
    "sample_date = now.strftime(\"%d/%m/%Y\")\n",
    "\n",
    "locale.setlocale(locale.LC_ALL, 'it_IT.UTF-8')\n",
    "ok_statuses = [200, 201, 202]\n",
    "data_file_path = os.path.join(\"..\",\"data\")\n",
    "tmp_data_file_path = os.path.join(os.sep,\"tmp\")\n",
    "\n",
    "csv_data_file = os.path.join(data_file_path, \"reduced_repord_data.csv\")\n",
    "\n",
    "pdf_file_name = os.path.join(os.sep, \"tmp\", \"temp_data_file.pdf\")\n",
    "it_data_file = os.path.join(data_file_path, \"virus-it.csv\")\n",
    "it_tmp_data_file = os.path.join(data_file_path, \"virus-it-{dt}.csv\".format(dt=now.strftime(\"%Y%m%d\")))\n",
    "\n",
    "lomb_data_file = os.path.join(data_file_path, \"virus-lombardia.csv\")\n",
    "lomb_tmp_data_file = os.path.join(data_file_path, \"virus-lombardia-{dt}.csv\".format(dt=now.strftime(\"%Y%m%d\")))\n",
    "\n"
   ]
  },
  {
   "cell_type": "code",
   "execution_count": 36,
   "metadata": {},
   "outputs": [
    {
     "name": "stdout",
     "output_type": "stream",
     "text": [
      "/home/giovanni/code-personal/python/CoronaVirus/src\n"
     ]
    }
   ],
   "source": [
    "#----------------------------------------------------------------\n",
    "# Import the procedures that download and transform the pdf file\n",
    "# into a dataframe.\n",
    "#----------------------------------------------------------------\n",
    "\n",
    "module_path = os.path.abspath(os.path.join('..','src'))\n",
    "print(module_path)\n",
    "if module_path not in sys.path:\n",
    "    sys.path.append(module_path)\n",
    "\n",
    "from DataDownloader import create_dataframe\n",
    "from DataDownloader import get_web_file\n",
    "from DataDownloader import save_content_to_file\n",
    "from DataDownloader import pdf_to_dataframe\n",
    "from DataDownloader import translate_to_date\n",
    "from DataDownloader import refactor_region_df\n",
    "from DataDownloader import save_df_to_csv\n",
    "from DataDownloader import init_logger\n",
    "\n",
    "from DataDownloader import load_date_range_reports\n",
    "\n"
   ]
  },
  {
   "cell_type": "code",
   "execution_count": 8,
   "metadata": {},
   "outputs": [],
   "source": [
    "init_logger('/tmp', \"virus-notebook.log\",log_level=logging.DEBUG, std_out_log_level=logging.ERROR)\n",
    "\n",
    "columns_report_charts = [\"REPORT DATE\",\"Regione\"\n",
    "                        ,\"Ricoverati con sintomi\",\"Terapia intensiva\",\"Totale attualmente positivi\"\n",
    "                        ,\"Isolamento domiciliare\"\n",
    "                        ,\"CASI TOTALI - A\"\n",
    "                        ,\"Totale tamponi effettuati\"]\n",
    "temp_content_dir = os.path.join(os.sep, 'tmp') \n",
    "rv, df = load_date_range_reports(dt.datetime.strptime(\"xx/12/2020\",'%d/%m/%Y')\n",
    "                                ,dt.datetime.strptime(\"xx/12/2020\",'%d/%m/%Y')\n",
    "                                ,{\"temp_dir\": tmp_data_file_path\n",
    "                                ,\"data file\": csv_data_file\n",
    "                                ,\"columns\":columns_report_charts\n",
    "                                ,\"save\": True\n",
    "                                ,\"sort column\": \"REPORT DATE\"})\n"
   ]
  },
  {
   "cell_type": "code",
   "execution_count": 37,
   "metadata": {},
   "outputs": [
    {
     "name": "stdout",
     "output_type": "stream",
     "text": [
      "../data/reduced_repord_data.csv\n"
     ]
    },
    {
     "data": {
      "text/plain": [
       "((3885, 8), '2020-06-25', '2020-12-26')"
      ]
     },
     "execution_count": 37,
     "metadata": {},
     "output_type": "execute_result"
    }
   ],
   "source": [
    "print(csv_data_file)\n",
    "df = pd.read_csv(csv_data_file, sep=',')\n",
    "(df.shape, df[\"REPORT DATE\"].min(), df[\"REPORT DATE\"].max())"
   ]
  },
  {
   "cell_type": "code",
   "execution_count": 42,
   "metadata": {},
   "outputs": [
    {
     "data": {
      "text/html": [
       "<div>\n",
       "<style scoped>\n",
       "    .dataframe tbody tr th:only-of-type {\n",
       "        vertical-align: middle;\n",
       "    }\n",
       "\n",
       "    .dataframe tbody tr th {\n",
       "        vertical-align: top;\n",
       "    }\n",
       "\n",
       "    .dataframe thead th {\n",
       "        text-align: right;\n",
       "    }\n",
       "</style>\n",
       "<table border=\"1\" class=\"dataframe\">\n",
       "  <thead>\n",
       "    <tr style=\"text-align: right;\">\n",
       "      <th></th>\n",
       "      <th>REPORT DATE</th>\n",
       "      <th>Regione</th>\n",
       "      <th>Ricoverati con sintomi</th>\n",
       "      <th>Terapia intensiva</th>\n",
       "      <th>Totale attualmente positivi</th>\n",
       "      <th>Isolamento domiciliare</th>\n",
       "      <th>CASI TOTALI - A</th>\n",
       "      <th>Totale tamponi effettuati</th>\n",
       "    </tr>\n",
       "  </thead>\n",
       "  <tbody>\n",
       "    <tr>\n",
       "      <th>3452</th>\n",
       "      <td>2020-12-06</td>\n",
       "      <td>Lombardia</td>\n",
       "      <td>6372</td>\n",
       "      <td>807</td>\n",
       "      <td>116379</td>\n",
       "      <td>109200</td>\n",
       "      <td>429109</td>\n",
       "      <td>4279332</td>\n",
       "    </tr>\n",
       "  </tbody>\n",
       "</table>\n",
       "</div>"
      ],
      "text/plain": [
       "     REPORT DATE    Regione  Ricoverati con sintomi  Terapia intensiva  \\\n",
       "3452  2020-12-06  Lombardia                    6372                807   \n",
       "\n",
       "      Totale attualmente positivi  Isolamento domiciliare  CASI TOTALI - A  \\\n",
       "3452                       116379                  109200           429109   \n",
       "\n",
       "      Totale tamponi effettuati  \n",
       "3452                    4279332  "
      ]
     },
     "execution_count": 42,
     "metadata": {},
     "output_type": "execute_result"
    }
   ],
   "source": [
    "df[(df[\"REPORT DATE\"] == \"2020-12-06\") & (df[\"Regione\"] == \"Lombardia\")].head(21)"
   ]
  },
  {
   "cell_type": "code",
   "execution_count": 23,
   "metadata": {},
   "outputs": [
    {
     "name": "stdout",
     "output_type": "stream",
     "text": [
      "../data/reduced_repord_data.csv\n"
     ]
    }
   ],
   "source": [
    "#----------------------------------------------------------------\n",
    "# Data quality tests.\n",
    "#----------------------------------------------------------------\n",
    "print(csv_data_file)\n",
    "df_test = pd.read_csv(csv_data_file, sep=',')\n",
    "\n",
    "rep_date_count = df_test['REPORT DATE'].value_counts().to_frame()\n",
    "rep_date_count.reset_index(inplace=True)\n",
    "rep_date_count.sort_values(by=['index'], inplace=True)\n",
    "#rep_date_count['REPORT DATE'] = rep_date_count['REPORT DATE'].astype(str)\n",
    "#rep_date_count.loc[rep_date_count['REPORT DATE'] < 21]\n",
    "#assert rep_date_count.loc[rep_date_count['index'].str.contains(\"2020-12\")].shape[0] == 31, \"Dicembre\"\n",
    "assert rep_date_count.loc[rep_date_count['index'].str.contains(\"2020-11\")].shape[0] == 30, \"Novembre\"\n",
    "assert rep_date_count.loc[rep_date_count['index'].str.contains(\"2020-10\")].shape[0] == 31, \"Ottobre\"\n",
    "assert rep_date_count.loc[rep_date_count['index'].str.contains(\"2020-09\")].shape[0] == 30, \"Settembre\"\n",
    "assert rep_date_count.loc[rep_date_count['index'].str.contains(\"2020-08\")].shape[0] == 31, \"Agosto\"\n",
    "assert rep_date_count.loc[rep_date_count['index'].str.contains(\"2020-07\")].shape[0] == 31, \"Luglio\"\n",
    "#assert rep_date_count.loc[rep_date_count['index'].str.contains(\"2020-06\")].shape[0] == 30, \"Giugno\"\n",
    "#assert rep_date_count.loc[rep_date_count['index'].str.contains(\"2020-05\")].shape[0] == 31, \"Maggio\"\n",
    "#assert rep_date_count.loc[rep_date_count['index'].str.contains(\"2020-04\")].shape[0] == 30, \"Aprile\""
   ]
  },
  {
   "cell_type": "code",
   "execution_count": 33,
   "metadata": {},
   "outputs": [
    {
     "name": "stdout",
     "output_type": "stream",
     "text": [
      "../data/reduced_repord_data.csv\n"
     ]
    }
   ],
   "source": [
    "print(csv_data_file)\n",
    "df_test = pd.read_csv(csv_data_file, sep=',')\n",
    "df_test.sort_values(by=[\"REPORT DATE\"], inplace=True)\n",
    "df_test.to_csv(csv_data_file, mode='w', header = True, index=False)"
   ]
  },
  {
   "cell_type": "code",
   "execution_count": 32,
   "metadata": {},
   "outputs": [],
   "source": []
  },
  {
   "cell_type": "code",
   "execution_count": 25,
   "metadata": {},
   "outputs": [
    {
     "data": {
      "text/plain": [
       "(3864, 8)"
      ]
     },
     "execution_count": 25,
     "metadata": {},
     "output_type": "execute_result"
    }
   ],
   "source": [
    "df_test.shape"
   ]
  }
 ],
 "metadata": {
  "kernelspec": {
   "display_name": "Python 3",
   "language": "python",
   "name": "python3"
  },
  "language_info": {
   "codemirror_mode": {
    "name": "ipython",
    "version": 3
   },
   "file_extension": ".py",
   "mimetype": "text/x-python",
   "name": "python",
   "nbconvert_exporter": "python",
   "pygments_lexer": "ipython3",
   "version": "3.8.5"
  }
 },
 "nbformat": 4,
 "nbformat_minor": 4
}
