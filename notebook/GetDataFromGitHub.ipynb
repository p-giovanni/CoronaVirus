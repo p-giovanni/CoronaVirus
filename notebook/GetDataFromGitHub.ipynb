{
 "cells": [
  {
   "cell_type": "code",
   "execution_count": 11,
   "metadata": {},
   "outputs": [],
   "source": [
    "import os\n",
    "import json\n",
    "import requests\n",
    "import codecs\n",
    "\n"
   ]
  },
  {
   "cell_type": "code",
   "execution_count": 14,
   "metadata": {},
   "outputs": [],
   "source": [
    "ok_statuses = [200, 201, 202]\n",
    "\n",
    "url_province_latest = \"https://raw.githubusercontent.com/pcm-dpc/COVID-19/master/dati-province/dpc-covid19-ita-province-latest.csv\"\n",
    "\n",
    "data_file_path = os.path.join(\"..\",\"data\")\n",
    "prov_data_file_name = \"virus-province.csv\"\n",
    "prov_data_file = os.path.join(data_file_path, prov_data_file_name)"
   ]
  },
  {
   "cell_type": "code",
   "execution_count": 15,
   "metadata": {},
   "outputs": [],
   "source": [
    "result = requests.get(url_province_latest)\n",
    "if result.status_code not in ok_statuses:\n",
    "    assert \"Get data failed. Received error code: {er}\".format(er=str(result.status_code))\n",
    "    \n",
    "with codecs.open(prov_data_file, \"w\", \"utf-8\") as fh:\n",
    "    fh.write(result.text)\n"
   ]
  },
  {
   "cell_type": "code",
   "execution_count": null,
   "metadata": {},
   "outputs": [],
   "source": []
  },
  {
   "cell_type": "code",
   "execution_count": null,
   "metadata": {},
   "outputs": [],
   "source": []
  }
 ],
 "metadata": {
  "kernelspec": {
   "display_name": "Python 3",
   "language": "python",
   "name": "python3"
  },
  "language_info": {
   "codemirror_mode": {
    "name": "ipython",
    "version": 3
   },
   "file_extension": ".py",
   "mimetype": "text/x-python",
   "name": "python",
   "nbconvert_exporter": "python",
   "pygments_lexer": "ipython3",
   "version": "3.6.9"
  }
 },
 "nbformat": 4,
 "nbformat_minor": 4
}
