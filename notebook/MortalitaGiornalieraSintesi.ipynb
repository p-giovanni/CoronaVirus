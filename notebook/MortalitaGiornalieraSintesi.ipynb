{
 "cells": [
  {
   "cell_type": "code",
   "execution_count": 1,
   "metadata": {},
   "outputs": [
    {
     "data": {
      "text/plain": [
       "'it_IT.UTF-8'"
      ]
     },
     "execution_count": 1,
     "metadata": {},
     "output_type": "execute_result"
    }
   ],
   "source": [
    "import os\n",
    "import locale\n",
    "from enum import Enum\n",
    "\n",
    "import pandas as pd \n",
    "import numpy as np \n",
    "\n",
    "from matplotlib import pyplot as plt \n",
    "from matplotlib.ticker import (MultipleLocator, FormatStrFormatter, AutoMinorLocator)\n",
    "import matplotlib.dates as mdates\n",
    "import matplotlib.gridspec as gridspec\n",
    "\n",
    "\n",
    "locale.setlocale(locale.LC_ALL, 'it_IT.UTF-8')\n",
    "#locale.setlocale(locale.LC_ALL, '')\n"
   ]
  },
  {
   "cell_type": "code",
   "execution_count": 2,
   "metadata": {},
   "outputs": [],
   "source": [
    "# Aggregate table.\n",
    "aggregate_tbl_file_path = os.path.join(\"..\",\"data\", \"Istat\", \"tavola-sintetica-16aprile\")\n",
    "aggregate_tbl_file_name = \"Tavola sintetica.xlsx\"\n",
    "aggregate_file = os.path.join(aggregate_tbl_file_path, aggregate_tbl_file_name)\n"
   ]
  },
  {
   "cell_type": "code",
   "execution_count": 3,
   "metadata": {},
   "outputs": [
    {
     "data": {
      "text/plain": [
       "((1690, 16),\n",
       " totale decessi                  object\n",
       " Unnamed: 1                      object\n",
       " Unnamed: 2                      object\n",
       " Unnamed: 3                      object\n",
       " Unnamed: 4                      object\n",
       " Unnamed: 5                      object\n",
       " Unnamed: 6                      object\n",
       " 1 marzo 2019 - 4 aprile 2019    object\n",
       " Unnamed: 8                      object\n",
       " Unnamed: 9                      object\n",
       " 1 marzo 2020 - 4 aprile 2020    object\n",
       " Unnamed: 11                     object\n",
       " Unnamed: 12                     object\n",
       " incremento %                    object\n",
       " Unnamed: 14                     object\n",
       " Unnamed: 15                     object\n",
       " dtype: object)"
      ]
     },
     "execution_count": 3,
     "metadata": {},
     "output_type": "execute_result"
    }
   ],
   "source": [
    "aggregate_s01_df = pd.read_excel(aggregate_file,sheet_name='Totale per sesso')\n",
    "(aggregate_s01_df.shape, aggregate_s01_df.dtypes)"
   ]
  },
  {
   "cell_type": "code",
   "execution_count": 4,
   "metadata": {},
   "outputs": [
    {
     "data": {
      "text/html": [
       "<div>\n",
       "<style scoped>\n",
       "    .dataframe tbody tr th:only-of-type {\n",
       "        vertical-align: middle;\n",
       "    }\n",
       "\n",
       "    .dataframe tbody tr th {\n",
       "        vertical-align: top;\n",
       "    }\n",
       "\n",
       "    .dataframe thead th {\n",
       "        text-align: right;\n",
       "    }\n",
       "</style>\n",
       "<table border=\"1\" class=\"dataframe\">\n",
       "  <thead>\n",
       "    <tr style=\"text-align: right;\">\n",
       "      <th></th>\n",
       "      <th>totale decessi</th>\n",
       "      <th>Unnamed: 1</th>\n",
       "      <th>Unnamed: 2</th>\n",
       "      <th>Unnamed: 3</th>\n",
       "      <th>Unnamed: 4</th>\n",
       "      <th>Unnamed: 5</th>\n",
       "      <th>Unnamed: 6</th>\n",
       "      <th>1 marzo 2019 - 4 aprile 2019</th>\n",
       "      <th>Unnamed: 8</th>\n",
       "      <th>Unnamed: 9</th>\n",
       "      <th>1 marzo 2020 - 4 aprile 2020</th>\n",
       "      <th>Unnamed: 11</th>\n",
       "      <th>Unnamed: 12</th>\n",
       "      <th>incremento %</th>\n",
       "      <th>Unnamed: 14</th>\n",
       "      <th>Unnamed: 15</th>\n",
       "    </tr>\n",
       "  </thead>\n",
       "  <tbody>\n",
       "    <tr>\n",
       "      <th>0</th>\n",
       "      <td>REG</td>\n",
       "      <td>PROV</td>\n",
       "      <td>NOME_REGIONE</td>\n",
       "      <td>NOME_PROVINCIA</td>\n",
       "      <td>NOME_COMUNE</td>\n",
       "      <td>COD_PROVCOM</td>\n",
       "      <td>DATA_INIZIO_DIFF</td>\n",
       "      <td>M</td>\n",
       "      <td>F</td>\n",
       "      <td>M+F</td>\n",
       "      <td>M</td>\n",
       "      <td>F</td>\n",
       "      <td>M+F</td>\n",
       "      <td>M</td>\n",
       "      <td>F</td>\n",
       "      <td>M+F</td>\n",
       "    </tr>\n",
       "    <tr>\n",
       "      <th>1</th>\n",
       "      <td>01</td>\n",
       "      <td>001</td>\n",
       "      <td>Piemonte</td>\n",
       "      <td>Torino</td>\n",
       "      <td>Agliè</td>\n",
       "      <td>001001</td>\n",
       "      <td>1 aprile</td>\n",
       "      <td>1</td>\n",
       "      <td>3</td>\n",
       "      <td>4</td>\n",
       "      <td>3</td>\n",
       "      <td>4</td>\n",
       "      <td>7</td>\n",
       "      <td>200</td>\n",
       "      <td>33.3333</td>\n",
       "      <td>75</td>\n",
       "    </tr>\n",
       "    <tr>\n",
       "      <th>2</th>\n",
       "      <td>01</td>\n",
       "      <td>001</td>\n",
       "      <td>Piemonte</td>\n",
       "      <td>Torino</td>\n",
       "      <td>Almese</td>\n",
       "      <td>001006</td>\n",
       "      <td>1 aprile</td>\n",
       "      <td>2</td>\n",
       "      <td>1</td>\n",
       "      <td>3</td>\n",
       "      <td>4</td>\n",
       "      <td>2</td>\n",
       "      <td>6</td>\n",
       "      <td>100</td>\n",
       "      <td>100</td>\n",
       "      <td>100</td>\n",
       "    </tr>\n",
       "  </tbody>\n",
       "</table>\n",
       "</div>"
      ],
      "text/plain": [
       "  totale decessi Unnamed: 1    Unnamed: 2      Unnamed: 3   Unnamed: 4  \\\n",
       "0            REG       PROV  NOME_REGIONE  NOME_PROVINCIA  NOME_COMUNE   \n",
       "1             01        001      Piemonte          Torino        Agliè   \n",
       "2             01        001      Piemonte          Torino       Almese   \n",
       "\n",
       "    Unnamed: 5        Unnamed: 6 1 marzo 2019 - 4 aprile 2019 Unnamed: 8  \\\n",
       "0  COD_PROVCOM  DATA_INIZIO_DIFF                            M          F   \n",
       "1       001001          1 aprile                            1          3   \n",
       "2       001006          1 aprile                            2          1   \n",
       "\n",
       "  Unnamed: 9 1 marzo 2020 - 4 aprile 2020 Unnamed: 11 Unnamed: 12  \\\n",
       "0        M+F                            M           F         M+F   \n",
       "1          4                            3           4           7   \n",
       "2          3                            4           2           6   \n",
       "\n",
       "  incremento % Unnamed: 14 Unnamed: 15  \n",
       "0            M           F         M+F  \n",
       "1          200     33.3333          75  \n",
       "2          100         100         100  "
      ]
     },
     "execution_count": 4,
     "metadata": {},
     "output_type": "execute_result"
    }
   ],
   "source": [
    "aggregate_s01_df.head(3)"
   ]
  },
  {
   "cell_type": "code",
   "execution_count": null,
   "metadata": {},
   "outputs": [],
   "source": []
  }
 ],
 "metadata": {
  "kernelspec": {
   "display_name": "Python 3",
   "language": "python",
   "name": "python3"
  },
  "language_info": {
   "codemirror_mode": {
    "name": "ipython",
    "version": 3
   },
   "file_extension": ".py",
   "mimetype": "text/x-python",
   "name": "python",
   "nbconvert_exporter": "python",
   "pygments_lexer": "ipython3",
   "version": "3.6.9"
  }
 },
 "nbformat": 4,
 "nbformat_minor": 4
}
