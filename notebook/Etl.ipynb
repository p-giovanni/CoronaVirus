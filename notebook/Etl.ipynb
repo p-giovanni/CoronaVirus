{
 "cells": [
  {
   "cell_type": "code",
   "execution_count": 1,
   "metadata": {},
   "outputs": [],
   "source": [
    "import os\n",
    "import sys\n",
    "import logging\n",
    "\n",
    "import pandas as pd\n",
    "import numpy as np\n"
   ]
  },
  {
   "cell_type": "code",
   "execution_count": 2,
   "metadata": {},
   "outputs": [],
   "source": [
    "#----------------------------------------------------------------\n",
    "# Configurations section\n",
    "#----------------------------------------------------------------\n",
    "\n",
    "data_file_path = os.path.join(\"..\",\"data\")\n",
    "csv_data_file = os.path.join(data_file_path, \"reduced_repord_data.csv\")"
   ]
  },
  {
   "cell_type": "code",
   "execution_count": 3,
   "metadata": {},
   "outputs": [
    {
     "name": "stdout",
     "output_type": "stream",
     "text": [
      "/home/giovanni/code-personal/python/CoronaVirus/src\n"
     ]
    }
   ],
   "source": [
    "#----------------------------------------------------------------\n",
    "# Import the procedures that download and transform the pdf file\n",
    "# into a dataframe.\n",
    "#----------------------------------------------------------------\n",
    "\n",
    "module_path = os.path.abspath(os.path.join('..','src'))\n",
    "print(module_path)\n",
    "if module_path not in sys.path:\n",
    "    sys.path.append(module_path)\n",
    "\n",
    "from ETL import load_data_file\n",
    "from ETL import calculate_daily_diffs\n",
    "from ETL import init_logger\n",
    "\n",
    "\n",
    "init_logger('/tmp', \"etl-notebook.log\",log_level=logging.DEBUG, std_out_log_level=logging.ERROR)\n",
    "\n"
   ]
  },
  {
   "cell_type": "code",
   "execution_count": 6,
   "metadata": {},
   "outputs": [
    {
     "name": "stdout",
     "output_type": "stream",
     "text": [
      "../data/reduced_repord_data.csv\n"
     ]
    },
    {
     "data": {
      "text/plain": [
       "((5145, 10),\n",
       " '2020-05-01',\n",
       " '2020-12-31',\n",
       " REPORT DATE                     object\n",
       " Regione                         object\n",
       " Ricoverati con sintomi           int64\n",
       " Terapia intensiva                int64\n",
       " Totale attualmente positivi      int64\n",
       " DECEDUTI                         int64\n",
       " Isolamento domiciliare           int64\n",
       " CASI TOTALI - A                  int64\n",
       " Totale tamponi effettuati      float64\n",
       " SCHEMA VERSION                  object\n",
       " dtype: object)"
      ]
     },
     "execution_count": 6,
     "metadata": {},
     "output_type": "execute_result"
    }
   ],
   "source": [
    "print(csv_data_file)\n",
    "df = load_data_file(csv_data_file)\n",
    "(df.shape, df[\"REPORT DATE\"].min(), df[\"REPORT DATE\"].max(),df.dtypes)\n"
   ]
  },
  {
   "cell_type": "code",
   "execution_count": 9,
   "metadata": {},
   "outputs": [
    {
     "data": {
      "text/html": [
       "<div>\n",
       "<style scoped>\n",
       "    .dataframe tbody tr th:only-of-type {\n",
       "        vertical-align: middle;\n",
       "    }\n",
       "\n",
       "    .dataframe tbody tr th {\n",
       "        vertical-align: top;\n",
       "    }\n",
       "\n",
       "    .dataframe thead th {\n",
       "        text-align: right;\n",
       "    }\n",
       "</style>\n",
       "<table border=\"1\" class=\"dataframe\">\n",
       "  <thead>\n",
       "    <tr style=\"text-align: right;\">\n",
       "      <th></th>\n",
       "      <th>REPORT DATE</th>\n",
       "      <th>Regione</th>\n",
       "      <th>Ricoverati con sintomi</th>\n",
       "      <th>Terapia intensiva</th>\n",
       "      <th>Totale attualmente positivi</th>\n",
       "      <th>DECEDUTI</th>\n",
       "      <th>Isolamento domiciliare</th>\n",
       "      <th>CASI TOTALI - A</th>\n",
       "      <th>Totale tamponi effettuati</th>\n",
       "      <th>SCHEMA VERSION</th>\n",
       "      <th>D - CASI TOTALI - A</th>\n",
       "    </tr>\n",
       "  </thead>\n",
       "  <tbody>\n",
       "    <tr>\n",
       "      <th>0</th>\n",
       "      <td>2020-05-01</td>\n",
       "      <td>Molise</td>\n",
       "      <td>17</td>\n",
       "      <td>1</td>\n",
       "      <td>190</td>\n",
       "      <td>21</td>\n",
       "      <td>172</td>\n",
       "      <td>300</td>\n",
       "      <td>6463.0</td>\n",
       "      <td>v5</td>\n",
       "      <td>NaN</td>\n",
       "    </tr>\n",
       "    <tr>\n",
       "      <th>1</th>\n",
       "      <td>2020-05-01</td>\n",
       "      <td>Trento</td>\n",
       "      <td>146</td>\n",
       "      <td>19</td>\n",
       "      <td>1293</td>\n",
       "      <td>423</td>\n",
       "      <td>1128</td>\n",
       "      <td>4132</td>\n",
       "      <td>37838.0</td>\n",
       "      <td>v5</td>\n",
       "      <td>NaN</td>\n",
       "    </tr>\n",
       "    <tr>\n",
       "      <th>2</th>\n",
       "      <td>2020-05-01</td>\n",
       "      <td>Piemonte</td>\n",
       "      <td>2503</td>\n",
       "      <td>181</td>\n",
       "      <td>15562</td>\n",
       "      <td>3097</td>\n",
       "      <td>12878</td>\n",
       "      <td>26684</td>\n",
       "      <td>162568.0</td>\n",
       "      <td>v5</td>\n",
       "      <td>NaN</td>\n",
       "    </tr>\n",
       "  </tbody>\n",
       "</table>\n",
       "</div>"
      ],
      "text/plain": [
       "  REPORT DATE   Regione  Ricoverati con sintomi  Terapia intensiva  \\\n",
       "0  2020-05-01    Molise                      17                  1   \n",
       "1  2020-05-01    Trento                     146                 19   \n",
       "2  2020-05-01  Piemonte                    2503                181   \n",
       "\n",
       "   Totale attualmente positivi  DECEDUTI  Isolamento domiciliare  \\\n",
       "0                          190        21                     172   \n",
       "1                         1293       423                    1128   \n",
       "2                        15562      3097                   12878   \n",
       "\n",
       "   CASI TOTALI - A  Totale tamponi effettuati SCHEMA VERSION  \\\n",
       "0              300                     6463.0             v5   \n",
       "1             4132                    37838.0             v5   \n",
       "2            26684                   162568.0             v5   \n",
       "\n",
       "   D - CASI TOTALI - A  \n",
       "0                  NaN  \n",
       "1                  NaN  \n",
       "2                  NaN  "
      ]
     },
     "execution_count": 9,
     "metadata": {},
     "output_type": "execute_result"
    }
   ],
   "source": [
    "df.head(3)"
   ]
  },
  {
   "cell_type": "code",
   "execution_count": 8,
   "metadata": {},
   "outputs": [],
   "source": [
    "df = calculate_daily_diffs(df, in_col=\"CASI TOTALI - A\", out_col=\"D - CASI TOTALI - A\")"
   ]
  },
  {
   "cell_type": "code",
   "execution_count": 14,
   "metadata": {},
   "outputs": [
    {
     "data": {
      "text/html": [
       "<div>\n",
       "<style scoped>\n",
       "    .dataframe tbody tr th:only-of-type {\n",
       "        vertical-align: middle;\n",
       "    }\n",
       "\n",
       "    .dataframe tbody tr th {\n",
       "        vertical-align: top;\n",
       "    }\n",
       "\n",
       "    .dataframe thead th {\n",
       "        text-align: right;\n",
       "    }\n",
       "</style>\n",
       "<table border=\"1\" class=\"dataframe\">\n",
       "  <thead>\n",
       "    <tr style=\"text-align: right;\">\n",
       "      <th></th>\n",
       "      <th>REPORT DATE</th>\n",
       "      <th>Regione</th>\n",
       "      <th>CASI TOTALI - A</th>\n",
       "      <th>D - CASI TOTALI - A</th>\n",
       "    </tr>\n",
       "  </thead>\n",
       "  <tbody>\n",
       "    <tr>\n",
       "      <th>2</th>\n",
       "      <td>2020-05-01</td>\n",
       "      <td>Piemonte</td>\n",
       "      <td>26684</td>\n",
       "      <td>NaN</td>\n",
       "    </tr>\n",
       "    <tr>\n",
       "      <th>25</th>\n",
       "      <td>2020-05-02</td>\n",
       "      <td>Piemonte</td>\n",
       "      <td>27179</td>\n",
       "      <td>495.0</td>\n",
       "    </tr>\n",
       "    <tr>\n",
       "      <th>45</th>\n",
       "      <td>2020-05-03</td>\n",
       "      <td>Piemonte</td>\n",
       "      <td>27430</td>\n",
       "      <td>251.0</td>\n",
       "    </tr>\n",
       "    <tr>\n",
       "      <th>66</th>\n",
       "      <td>2020-05-04</td>\n",
       "      <td>Piemonte</td>\n",
       "      <td>27622</td>\n",
       "      <td>192.0</td>\n",
       "    </tr>\n",
       "    <tr>\n",
       "      <th>87</th>\n",
       "      <td>2020-05-05</td>\n",
       "      <td>Piemonte</td>\n",
       "      <td>27774</td>\n",
       "      <td>152.0</td>\n",
       "    </tr>\n",
       "    <tr>\n",
       "      <th>...</th>\n",
       "      <td>...</td>\n",
       "      <td>...</td>\n",
       "      <td>...</td>\n",
       "      <td>...</td>\n",
       "    </tr>\n",
       "    <tr>\n",
       "      <th>1995</th>\n",
       "      <td>2020-08-04</td>\n",
       "      <td>Piemonte</td>\n",
       "      <td>31719</td>\n",
       "      <td>8.0</td>\n",
       "    </tr>\n",
       "    <tr>\n",
       "      <th>2021</th>\n",
       "      <td>2020-08-05</td>\n",
       "      <td>Piemonte</td>\n",
       "      <td>31740</td>\n",
       "      <td>21.0</td>\n",
       "    </tr>\n",
       "    <tr>\n",
       "      <th>2040</th>\n",
       "      <td>2020-08-06</td>\n",
       "      <td>Piemonte</td>\n",
       "      <td>31762</td>\n",
       "      <td>22.0</td>\n",
       "    </tr>\n",
       "    <tr>\n",
       "      <th>2064</th>\n",
       "      <td>2020-08-07</td>\n",
       "      <td>Piemonte</td>\n",
       "      <td>31799</td>\n",
       "      <td>37.0</td>\n",
       "    </tr>\n",
       "    <tr>\n",
       "      <th>2082</th>\n",
       "      <td>2020-08-08</td>\n",
       "      <td>Piemonte</td>\n",
       "      <td>31830</td>\n",
       "      <td>31.0</td>\n",
       "    </tr>\n",
       "  </tbody>\n",
       "</table>\n",
       "<p>100 rows × 4 columns</p>\n",
       "</div>"
      ],
      "text/plain": [
       "     REPORT DATE   Regione  CASI TOTALI - A  D - CASI TOTALI - A\n",
       "2     2020-05-01  Piemonte            26684                  NaN\n",
       "25    2020-05-02  Piemonte            27179                495.0\n",
       "45    2020-05-03  Piemonte            27430                251.0\n",
       "66    2020-05-04  Piemonte            27622                192.0\n",
       "87    2020-05-05  Piemonte            27774                152.0\n",
       "...          ...       ...              ...                  ...\n",
       "1995  2020-08-04  Piemonte            31719                  8.0\n",
       "2021  2020-08-05  Piemonte            31740                 21.0\n",
       "2040  2020-08-06  Piemonte            31762                 22.0\n",
       "2064  2020-08-07  Piemonte            31799                 37.0\n",
       "2082  2020-08-08  Piemonte            31830                 31.0\n",
       "\n",
       "[100 rows x 4 columns]"
      ]
     },
     "execution_count": 14,
     "metadata": {},
     "output_type": "execute_result"
    }
   ],
   "source": [
    "mask = df['Regione'] == 'Piemonte'\n",
    "df.loc[mask, [\"REPORT DATE\", \"Regione\", \"CASI TOTALI - A\", \"D - CASI TOTALI - A\"]].head(100)  "
   ]
  }
 ],
 "metadata": {
  "kernelspec": {
   "display_name": "Python 3",
   "language": "python",
   "name": "python3"
  },
  "language_info": {
   "codemirror_mode": {
    "name": "ipython",
    "version": 3
   },
   "file_extension": ".py",
   "mimetype": "text/x-python",
   "name": "python",
   "nbconvert_exporter": "python",
   "pygments_lexer": "ipython3",
   "version": "3.8.5"
  }
 },
 "nbformat": 4,
 "nbformat_minor": 4
}
