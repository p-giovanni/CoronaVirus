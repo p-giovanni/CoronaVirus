{
 "cells": [
  {
   "cell_type": "code",
   "execution_count": 6,
   "metadata": {},
   "outputs": [
    {
     "data": {
      "text/plain": [
       "'it_IT.UTF-8'"
      ]
     },
     "execution_count": 6,
     "metadata": {},
     "output_type": "execute_result"
    }
   ],
   "source": [
    "import os\n",
    "import locale\n",
    "from enum import Enum\n",
    "\n",
    "import pandas as pd \n",
    "import numpy as np \n",
    "\n",
    "from matplotlib import pyplot as plt \n",
    "from matplotlib.ticker import (MultipleLocator, FormatStrFormatter, AutoMinorLocator)\n",
    "import matplotlib.dates as mdates\n",
    "import matplotlib.gridspec as gridspec\n",
    "\n",
    "\n",
    "locale.setlocale(locale.LC_ALL, 'it_IT.UTF-8')\n",
    "#locale.setlocale(locale.LC_ALL, '')\n"
   ]
  },
  {
   "cell_type": "code",
   "execution_count": 16,
   "metadata": {},
   "outputs": [],
   "source": [
    "# Daily deaths toll.\n",
    "daily_data_file_path = os.path.join(\"..\",\"data\", \"Istat\", \"dati-giornalieri-comune\")\n",
    "daily_data_file_name = \"comune_giorno.csv\"\n",
    "daily_file = os.path.join(daily_data_file_path, daily_data_file_name)\n",
    "\n",
    "# Aggregate table.\n",
    "aggregate_tbl_file_path = os.path.join(\"..\",\"data\", \"Istat\", \"tavola-sintetica-16aprile\")\n",
    "aggregate_tbl_file_name = \"Tavola sintetica.xlsx\"\n",
    "aggregate_file = os.path.join(aggregate_tbl_file_path, aggregate_tbl_file_name)\n"
   ]
  },
  {
   "cell_type": "code",
   "execution_count": 19,
   "metadata": {},
   "outputs": [
    {
     "data": {
      "text/plain": [
       "((849120, 26),\n",
       " REG                  int64\n",
       " PROV                 int64\n",
       " NOME_REGIONE        object\n",
       " NOME_PROVINCIA      object\n",
       " NOME_COMUNE         object\n",
       " DATA_INIZIO_DIFF    object\n",
       " CL_ETA               int64\n",
       " GE                   int64\n",
       " MASCHI_15            int64\n",
       " MASCHI_16            int64\n",
       " MASCHI_17            int64\n",
       " MASCHI_18            int64\n",
       " MASCHI_19            int64\n",
       " MASCHI_20            int64\n",
       " FEMMINE_15           int64\n",
       " FEMMINE_16           int64\n",
       " FEMMINE_17           int64\n",
       " FEMMINE_18           int64\n",
       " FEMMINE_19           int64\n",
       " FEMMINE_20           int64\n",
       " TOTALE_15            int64\n",
       " TOTALE_16            int64\n",
       " TOTALE_17            int64\n",
       " TOTALE_18            int64\n",
       " TOTALE_19            int64\n",
       " TOTALE_20\\r          int64\n",
       " dtype: object)"
      ]
     },
     "execution_count": 19,
     "metadata": {},
     "output_type": "execute_result"
    }
   ],
   "source": [
    "daily_df = pd.read_csv(daily_file, sep=',', lineterminator='\\n',low_memory=False, encoding='latin-1')\n",
    "daily_df.set_index(\"COD_PROVCOM\", inplace = True)\n",
    "(daily_df.shape, daily_df.dtypes)"
   ]
  },
  {
   "cell_type": "code",
   "execution_count": 20,
   "metadata": {},
   "outputs": [
    {
     "data": {
      "text/html": [
       "<div>\n",
       "<style scoped>\n",
       "    .dataframe tbody tr th:only-of-type {\n",
       "        vertical-align: middle;\n",
       "    }\n",
       "\n",
       "    .dataframe tbody tr th {\n",
       "        vertical-align: top;\n",
       "    }\n",
       "\n",
       "    .dataframe thead th {\n",
       "        text-align: right;\n",
       "    }\n",
       "</style>\n",
       "<table border=\"1\" class=\"dataframe\">\n",
       "  <thead>\n",
       "    <tr style=\"text-align: right;\">\n",
       "      <th></th>\n",
       "      <th>REG</th>\n",
       "      <th>PROV</th>\n",
       "      <th>NOME_REGIONE</th>\n",
       "      <th>NOME_PROVINCIA</th>\n",
       "      <th>NOME_COMUNE</th>\n",
       "      <th>DATA_INIZIO_DIFF</th>\n",
       "      <th>CL_ETA</th>\n",
       "      <th>GE</th>\n",
       "      <th>MASCHI_15</th>\n",
       "      <th>MASCHI_16</th>\n",
       "      <th>...</th>\n",
       "      <th>FEMMINE_17</th>\n",
       "      <th>FEMMINE_18</th>\n",
       "      <th>FEMMINE_19</th>\n",
       "      <th>FEMMINE_20</th>\n",
       "      <th>TOTALE_15</th>\n",
       "      <th>TOTALE_16</th>\n",
       "      <th>TOTALE_17</th>\n",
       "      <th>TOTALE_18</th>\n",
       "      <th>TOTALE_19</th>\n",
       "      <th>TOTALE_20\\r</th>\n",
       "    </tr>\n",
       "    <tr>\n",
       "      <th>COD_PROVCOM</th>\n",
       "      <th></th>\n",
       "      <th></th>\n",
       "      <th></th>\n",
       "      <th></th>\n",
       "      <th></th>\n",
       "      <th></th>\n",
       "      <th></th>\n",
       "      <th></th>\n",
       "      <th></th>\n",
       "      <th></th>\n",
       "      <th></th>\n",
       "      <th></th>\n",
       "      <th></th>\n",
       "      <th></th>\n",
       "      <th></th>\n",
       "      <th></th>\n",
       "      <th></th>\n",
       "      <th></th>\n",
       "      <th></th>\n",
       "      <th></th>\n",
       "      <th></th>\n",
       "    </tr>\n",
       "  </thead>\n",
       "  <tbody>\n",
       "    <tr>\n",
       "      <th>1001</th>\n",
       "      <td>1</td>\n",
       "      <td>1</td>\n",
       "      <td>Piemonte</td>\n",
       "      <td>Torino</td>\n",
       "      <td>Agliè</td>\n",
       "      <td>1 aprile</td>\n",
       "      <td>17</td>\n",
       "      <td>102</td>\n",
       "      <td>0</td>\n",
       "      <td>0</td>\n",
       "      <td>...</td>\n",
       "      <td>0</td>\n",
       "      <td>1</td>\n",
       "      <td>0</td>\n",
       "      <td>0</td>\n",
       "      <td>0</td>\n",
       "      <td>0</td>\n",
       "      <td>0</td>\n",
       "      <td>1</td>\n",
       "      <td>0</td>\n",
       "      <td>0</td>\n",
       "    </tr>\n",
       "    <tr>\n",
       "      <th>1001</th>\n",
       "      <td>1</td>\n",
       "      <td>1</td>\n",
       "      <td>Piemonte</td>\n",
       "      <td>Torino</td>\n",
       "      <td>Agliè</td>\n",
       "      <td>1 aprile</td>\n",
       "      <td>18</td>\n",
       "      <td>104</td>\n",
       "      <td>0</td>\n",
       "      <td>0</td>\n",
       "      <td>...</td>\n",
       "      <td>0</td>\n",
       "      <td>0</td>\n",
       "      <td>0</td>\n",
       "      <td>0</td>\n",
       "      <td>0</td>\n",
       "      <td>1</td>\n",
       "      <td>0</td>\n",
       "      <td>0</td>\n",
       "      <td>0</td>\n",
       "      <td>0</td>\n",
       "    </tr>\n",
       "    <tr>\n",
       "      <th>1001</th>\n",
       "      <td>1</td>\n",
       "      <td>1</td>\n",
       "      <td>Piemonte</td>\n",
       "      <td>Torino</td>\n",
       "      <td>Agliè</td>\n",
       "      <td>1 aprile</td>\n",
       "      <td>18</td>\n",
       "      <td>105</td>\n",
       "      <td>0</td>\n",
       "      <td>0</td>\n",
       "      <td>...</td>\n",
       "      <td>0</td>\n",
       "      <td>0</td>\n",
       "      <td>0</td>\n",
       "      <td>0</td>\n",
       "      <td>0</td>\n",
       "      <td>0</td>\n",
       "      <td>0</td>\n",
       "      <td>0</td>\n",
       "      <td>0</td>\n",
       "      <td>1</td>\n",
       "    </tr>\n",
       "  </tbody>\n",
       "</table>\n",
       "<p>3 rows × 26 columns</p>\n",
       "</div>"
      ],
      "text/plain": [
       "             REG  PROV NOME_REGIONE NOME_PROVINCIA NOME_COMUNE  \\\n",
       "COD_PROVCOM                                                      \n",
       "1001           1     1     Piemonte         Torino       Agliè   \n",
       "1001           1     1     Piemonte         Torino       Agliè   \n",
       "1001           1     1     Piemonte         Torino       Agliè   \n",
       "\n",
       "            DATA_INIZIO_DIFF  CL_ETA   GE  MASCHI_15  MASCHI_16  ...  \\\n",
       "COD_PROVCOM                                                      ...   \n",
       "1001                1 aprile      17  102          0          0  ...   \n",
       "1001                1 aprile      18  104          0          0  ...   \n",
       "1001                1 aprile      18  105          0          0  ...   \n",
       "\n",
       "             FEMMINE_17  FEMMINE_18  FEMMINE_19  FEMMINE_20  TOTALE_15  \\\n",
       "COD_PROVCOM                                                              \n",
       "1001                  0           1           0           0          0   \n",
       "1001                  0           0           0           0          0   \n",
       "1001                  0           0           0           0          0   \n",
       "\n",
       "             TOTALE_16  TOTALE_17  TOTALE_18  TOTALE_19  TOTALE_20\\r  \n",
       "COD_PROVCOM                                                           \n",
       "1001                 0          0          1          0            0  \n",
       "1001                 1          0          0          0            0  \n",
       "1001                 0          0          0          0            1  \n",
       "\n",
       "[3 rows x 26 columns]"
      ]
     },
     "execution_count": 20,
     "metadata": {},
     "output_type": "execute_result"
    }
   ],
   "source": [
    "daily_df.head(3)"
   ]
  },
  {
   "cell_type": "code",
   "execution_count": 24,
   "metadata": {},
   "outputs": [],
   "source": [
    "segrate_istat_code = daily_df.loc[daily_df[\"NOME_COMUNE\"] == \"Segrate\"].index[0]"
   ]
  },
  {
   "cell_type": "code",
   "execution_count": 25,
   "metadata": {},
   "outputs": [
    {
     "data": {
      "text/plain": [
       "15205"
      ]
     },
     "execution_count": 25,
     "metadata": {},
     "output_type": "execute_result"
    }
   ],
   "source": [
    "segrate_istat_code"
   ]
  },
  {
   "cell_type": "code",
   "execution_count": 40,
   "metadata": {},
   "outputs": [
    {
     "data": {
      "text/plain": [
       "105    9\n",
       "221    8\n",
       "301    7\n",
       "306    7\n",
       "122    7\n",
       "      ..\n",
       "412    1\n",
       "403    1\n",
       "326    1\n",
       "427    1\n",
       "428    1\n",
       "Name: GE, Length: 120, dtype: int64"
      ]
     },
     "execution_count": 40,
     "metadata": {},
     "output_type": "execute_result"
    }
   ],
   "source": [
    "daily_df.loc[[segrate_istat_code], [\"GE\"]]['GE'].value_counts()"
   ]
  },
  {
   "cell_type": "code",
   "execution_count": null,
   "metadata": {},
   "outputs": [],
   "source": []
  }
 ],
 "metadata": {
  "kernelspec": {
   "display_name": "Python 3",
   "language": "python",
   "name": "python3"
  },
  "language_info": {
   "codemirror_mode": {
    "name": "ipython",
    "version": 3
   },
   "file_extension": ".py",
   "mimetype": "text/x-python",
   "name": "python",
   "nbconvert_exporter": "python",
   "pygments_lexer": "ipython3",
   "version": "3.6.9"
  }
 },
 "nbformat": 4,
 "nbformat_minor": 4
}
